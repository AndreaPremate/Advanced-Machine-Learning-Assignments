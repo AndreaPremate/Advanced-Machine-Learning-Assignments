{
  "nbformat": 4,
  "nbformat_minor": 0,
  "metadata": {
    "colab": {
      "name": "Lab_3 AML.ipynb",
      "provenance": [],
      "collapsed_sections": []
    },
    "kernelspec": {
      "name": "python3",
      "display_name": "Python 3"
    },
    "language_info": {
      "name": "python"
    },
    "accelerator": "GPU"
  },
  "cells": [
    {
      "cell_type": "markdown",
      "metadata": {
        "id": "uBwO5w-gu1mE"
      },
      "source": [
        "# ASSIGNMENT 3\n",
        "The task of the assignment #3 is the design of a CNN architecture and its training.\n",
        "\n",
        "Input dataset: MNIST digits (input size 28x28x1, number of classes: 10).\n",
        "The dataset is not distributed since can be easily downloaded directly from Keras.\n",
        "\n",
        "The CNN has to be designed with the aim of reaching the maximum possible accuracy on the test set, with the hard constraint of a maximum of 6K learnable parameters. Refer to the code developed in today's class as a skeleton on which to build your solution.\n",
        "\n",
        "The report must contain:\n",
        "- a description of the designed architecture\n",
        "- the parameters count for each layer\n",
        "- the hyper-parameters used for training (batch size, learning rate, optimizer, number of epochs, etc)\n",
        "- a plot of the training and validation loss/accuracy \n",
        "- classification performance on training, validation (if used) and test set\n",
        "\n"
      ]
    },
    {
      "cell_type": "markdown",
      "metadata": {
        "id": "GRKmqTBPC_RE"
      },
      "source": [
        "### Imports"
      ]
    },
    {
      "cell_type": "code",
      "metadata": {
        "id": "Nz-GZrhkCZn1"
      },
      "source": [
        "import numpy as np\n",
        "from tensorflow import keras\n",
        "from tensorflow.keras import layers\n",
        "from sklearn.model_selection import train_test_split\n",
        "from sklearn.metrics import classification_report\n",
        "from tensorflow.keras.optimizers import SGD\n",
        "from tensorflow.keras.optimizers import Adam"
      ],
      "execution_count": 1,
      "outputs": []
    },
    {
      "cell_type": "markdown",
      "metadata": {
        "id": "7iTiga2xuk4i"
      },
      "source": [
        "## LOADING DATA AND PREPROCESSING"
      ]
    },
    {
      "cell_type": "code",
      "metadata": {
        "colab": {
          "base_uri": "https://localhost:8080/"
        },
        "id": "-WucKde0DJvI",
        "outputId": "83abab89-36b8-4208-eed9-722993ce980d"
      },
      "source": [
        "num_classes = 10\n",
        "input_shape = (28,28,1)\n",
        "# load data\n",
        "(x_train, y_train), (x_test, y_test) = keras.datasets.mnist.load_data()\n",
        "\n",
        "# scale images in [0,1]\n",
        "x_train = x_train.astype(\"float32\")/255\n",
        "x_test = x_test.astype(\"float32\")/255\n",
        "# images 28x28\n",
        "x_train = np.expand_dims(x_train, -1)\n",
        "x_test = np.expand_dims(x_test, -1)\n",
        "print(\"x_train_shape: \", x_train.shape)\n",
        "\n",
        "# convert class vectors to binary class matrices\n",
        "print(\"y_train_shape: \", y_train.shape)\n",
        "y_train = keras.utils.to_categorical(y_train, num_classes)\n",
        "y_test = keras.utils.to_categorical(y_test, num_classes)\n",
        "print(\"y_train_shape: \", y_train.shape)"
      ],
      "execution_count": 2,
      "outputs": [
        {
          "output_type": "stream",
          "name": "stdout",
          "text": [
            "x_train_shape:  (60000, 28, 28, 1)\n",
            "y_train_shape:  (60000,)\n",
            "y_train_shape:  (60000, 10)\n"
          ]
        }
      ]
    },
    {
      "cell_type": "markdown",
      "metadata": {
        "id": "HMVzOMS2vTlm"
      },
      "source": [
        "Split Training and Validation Data"
      ]
    },
    {
      "cell_type": "code",
      "metadata": {
        "colab": {
          "base_uri": "https://localhost:8080/"
        },
        "id": "cps4YbpdvTlm",
        "outputId": "d94ee8a1-a758-4aec-8944-2cd68408ef94"
      },
      "source": [
        "x_train, x_val, y_train, y_val = train_test_split(x_train, y_train, test_size=0.1, train_size=0.9)\n",
        "print(x_train.shape)\n",
        "print(y_train.shape)\n",
        "print(x_val.shape)\n",
        "print(y_val.shape)"
      ],
      "execution_count": 3,
      "outputs": [
        {
          "output_type": "stream",
          "name": "stdout",
          "text": [
            "(54000, 28, 28, 1)\n",
            "(54000, 10)\n",
            "(6000, 28, 28, 1)\n",
            "(6000, 10)\n"
          ]
        }
      ]
    },
    {
      "cell_type": "markdown",
      "metadata": {
        "id": "AWDHC3ttvEk8"
      },
      "source": [
        "## BUILDING THE MODEL"
      ]
    },
    {
      "cell_type": "markdown",
      "metadata": {
        "id": "HYJZwVsUwqrg"
      },
      "source": [
        "### CNN structure"
      ]
    },
    {
      "cell_type": "markdown",
      "metadata": {
        "id": "xoNMoWoji1Cj"
      },
      "source": [
        "La rete utilizzata utilizza due convolutional layer, seguiti entrambi da un maxpool. Infine abbiamo un layer fully connected con numero di neuroni uguale al numero delle classi del nostro task di classificazione. \n",
        "- Per il primo convolutional layer sono stati utilizzati 33 filtri, una kernel size di 3x3, strides di (1,1) e funzione di attivazione relu. Otteniamo così in output le stesse dimensioni delle immagini originali (una per ciascun filtro).\n",
        "- Successivamente andiamo a fare un'operazione di max pooling (2,2), dimezzando così la dimensione delle immagini da 26x26 a 13x13.\n",
        "- Per il secondo convolutional layer sono stati utilizzati 25 filtri, una kernel size di 2x2, strides di (1,1) e funzione di attivazione relu. Passiamo quindi ad una dimensione delle immagini di 12x12. (una per ciascun filtro).\n",
        "- Successivamente andiamo a fare un'operazione di max pooling (4,4), rendendo così la dimensione delle immagini da 12x12 a 3x3.\n",
        "- Nel passaggio successivo andiamo a perdere la configurazione spaziale, collegando un array monodimensionale fully connected di dimensione 10 (numero classi). Utilizziamo la tecnica di regolarizzazione del dropout, per evitare overfitting. La funzione di attivazione utilizzata in output è la softmax.\n",
        "\n",
        "Rispetto alla rete originale(quella presentata in aula) è stato quindi solo ridotto il numero di filtri utilizzati, in particolar modo quelli del secondo layer convolutivo (e raddoppiato il pooling dopo il secondo layer convolutivo). Ciò si rivelerà una scelta efficace perchè intuitivamente non si ha bisogno di un grande numero di filtri per riconoscere delle semplici immagini raffiguranti cifre: tali immagini non hanno particolari texture da riconoscere o feature complesse come un volto, ma solamente feature di base come linee e cerchi. Un numero di filtri basso quindi si rivelerà più che sufficiente."
      ]
    },
    {
      "cell_type": "code",
      "metadata": {
        "colab": {
          "base_uri": "https://localhost:8080/"
        },
        "id": "cGkWlKw8F6hp",
        "outputId": "b31faf0a-d75f-4d3a-cc02-b20d53c383e3"
      },
      "source": [
        "model = keras.Sequential(\n",
        "    [\n",
        "     keras.Input(shape=input_shape),\n",
        "     layers.Conv2D(33, kernel_size=(3,3), activation=\"relu\", strides=(1,1)),\n",
        "     layers.MaxPooling2D(pool_size=(2,2)),\n",
        "     layers.Conv2D(25, kernel_size=(2,2), activation=\"relu\", strides=(1,1)),\n",
        "     layers.MaxPooling2D(pool_size=(4,4)),\n",
        "     layers.Flatten(),\n",
        "     layers.Dropout(0.1),\n",
        "     layers.Dense(num_classes, activation=\"softmax\")     \n",
        "    ]\n",
        ")\n",
        "\n",
        "model.summary()"
      ],
      "execution_count": 4,
      "outputs": [
        {
          "output_type": "stream",
          "name": "stdout",
          "text": [
            "Model: \"sequential\"\n",
            "_________________________________________________________________\n",
            " Layer (type)                Output Shape              Param #   \n",
            "=================================================================\n",
            " conv2d (Conv2D)             (None, 26, 26, 33)        330       \n",
            "                                                                 \n",
            " max_pooling2d (MaxPooling2D  (None, 13, 13, 33)       0         \n",
            " )                                                               \n",
            "                                                                 \n",
            " conv2d_1 (Conv2D)           (None, 12, 12, 25)        3325      \n",
            "                                                                 \n",
            " max_pooling2d_1 (MaxPooling  (None, 3, 3, 25)         0         \n",
            " 2D)                                                             \n",
            "                                                                 \n",
            " flatten (Flatten)           (None, 225)               0         \n",
            "                                                                 \n",
            " dropout (Dropout)           (None, 225)               0         \n",
            "                                                                 \n",
            " dense (Dense)               (None, 10)                2260      \n",
            "                                                                 \n",
            "=================================================================\n",
            "Total params: 5,915\n",
            "Trainable params: 5,915\n",
            "Non-trainable params: 0\n",
            "_________________________________________________________________\n"
          ]
        }
      ]
    },
    {
      "cell_type": "markdown",
      "metadata": {
        "id": "PiwqGsp7rk0b"
      },
      "source": [
        "- Il primo layer di convoluzione ha 330 parametri\n",
        "- Il secondo layer di convoluzione ha 3325 parametri\n",
        "- L'ultimo layer (fully connected) ha 2260 parametri\n",
        "\n",
        "Totale numero di parametri: 5,915"
      ]
    },
    {
      "cell_type": "markdown",
      "metadata": {
        "id": "s2wglA-FwV1w"
      },
      "source": [
        "### Rete alternativa provata in partenza\n",
        "\n",
        "In partenza si era anche provato, per tenere il numero di parametri sotto i 6000, ad utilizzare uno stride uguale alla dimensione della maskera kernel della convoluzione, solamente che le performance sono risultate inferiori in accuracy dell'1% rispetto alla rete finale che siamo andati a considerare. Non era stato utilizzato pooling. In seguito la struttura della rete che era stata utilizzata."
      ]
    },
    {
      "cell_type": "code",
      "metadata": {
        "colab": {
          "base_uri": "https://localhost:8080/",
          "height": 53
        },
        "id": "gY37x7w8L3CW",
        "outputId": "f31f084d-cd23-434e-e9aa-e2c1774ceef7"
      },
      "source": [
        "'''\n",
        "model = keras.Sequential(\n",
        "    [\n",
        "     keras.Input(shape=input_shape),\n",
        "     layers.Conv2D(33, kernel_size=(7,7), activation=\"relu\", strides=(7,7)),\n",
        "     layers.Conv2D(25, kernel_size=(2,2), activation=\"relu\", strides=(2,2)),\n",
        "     layers.Flatten(),\n",
        "     layers.Dropout(0.1),\n",
        "     layers.Dense(num_classes, activation=\"softmax\")     \n",
        "    ]\n",
        ")\n",
        "\n",
        "model.summary()\n",
        "'''"
      ],
      "execution_count": 5,
      "outputs": [
        {
          "output_type": "execute_result",
          "data": {
            "application/vnd.google.colaboratory.intrinsic+json": {
              "type": "string"
            },
            "text/plain": [
              "'\\nmodel = keras.Sequential(\\n    [\\n     keras.Input(shape=input_shape),\\n     layers.Conv2D(33, kernel_size=(7,7), activation=\"relu\", strides=(7,7)),\\n     layers.Conv2D(25, kernel_size=(2,2), activation=\"relu\", strides=(2,2)),\\n     layers.Flatten(),\\n     layers.Dropout(0.1),\\n     layers.Dense(num_classes, activation=\"softmax\")     \\n    ]\\n)\\n\\nmodel.summary()\\n'"
            ]
          },
          "metadata": {},
          "execution_count": 5
        }
      ]
    },
    {
      "cell_type": "markdown",
      "metadata": {
        "id": "0k6KUDB8wR0C"
      },
      "source": [
        "### Training"
      ]
    },
    {
      "cell_type": "markdown",
      "metadata": {
        "id": "bE2E-WKjxlQA"
      },
      "source": [
        "- La batch_size utilizzata è 128\n",
        "- Il numero di epochs è di 50, andando oltre si iniziava ad andare in overfitting\n",
        "- Optimizer: adam, si è provato con SGD e altri ma risultavano molto più lenti.\n",
        "- Learning rate: default, 0.001\n",
        "- Loss: categorical crossentropy\n"
      ]
    },
    {
      "cell_type": "code",
      "metadata": {
        "colab": {
          "base_uri": "https://localhost:8080/"
        },
        "id": "wyyNr905H5nv",
        "outputId": "445aa63c-9b2b-416e-81ca-cdd31a0a22a7"
      },
      "source": [
        "batch_size = 128\n",
        "epochs = 50\n",
        "\n",
        "model.compile(loss=\"categorical_crossentropy\", optimizer=Adam(learning_rate=0.001) , metrics=[\"accuracy\"])\n",
        "history = model.fit(x_train, y_train, batch_size=batch_size, epochs=epochs, validation_data=(x_val, y_val))"
      ],
      "execution_count": 6,
      "outputs": [
        {
          "output_type": "stream",
          "name": "stdout",
          "text": [
            "Epoch 1/50\n",
            "422/422 [==============================] - 6s 10ms/step - loss: 0.6695 - accuracy: 0.7965 - val_loss: 0.1784 - val_accuracy: 0.9478\n",
            "Epoch 2/50\n",
            "422/422 [==============================] - 4s 9ms/step - loss: 0.1864 - accuracy: 0.9412 - val_loss: 0.1194 - val_accuracy: 0.9637\n",
            "Epoch 3/50\n",
            "422/422 [==============================] - 4s 9ms/step - loss: 0.1404 - accuracy: 0.9561 - val_loss: 0.0934 - val_accuracy: 0.9707\n",
            "Epoch 4/50\n",
            "422/422 [==============================] - 4s 8ms/step - loss: 0.1152 - accuracy: 0.9631 - val_loss: 0.0798 - val_accuracy: 0.9768\n",
            "Epoch 5/50\n",
            "422/422 [==============================] - 4s 9ms/step - loss: 0.1000 - accuracy: 0.9685 - val_loss: 0.0774 - val_accuracy: 0.9763\n",
            "Epoch 6/50\n",
            "422/422 [==============================] - 4s 9ms/step - loss: 0.0901 - accuracy: 0.9718 - val_loss: 0.0651 - val_accuracy: 0.9813\n",
            "Epoch 7/50\n",
            "422/422 [==============================] - 4s 9ms/step - loss: 0.0819 - accuracy: 0.9738 - val_loss: 0.0615 - val_accuracy: 0.9818\n",
            "Epoch 8/50\n",
            "422/422 [==============================] - 4s 9ms/step - loss: 0.0775 - accuracy: 0.9756 - val_loss: 0.0577 - val_accuracy: 0.9830\n",
            "Epoch 9/50\n",
            "422/422 [==============================] - 4s 9ms/step - loss: 0.0725 - accuracy: 0.9774 - val_loss: 0.0531 - val_accuracy: 0.9842\n",
            "Epoch 10/50\n",
            "422/422 [==============================] - 4s 9ms/step - loss: 0.0685 - accuracy: 0.9785 - val_loss: 0.0512 - val_accuracy: 0.9848\n",
            "Epoch 11/50\n",
            "422/422 [==============================] - 3s 8ms/step - loss: 0.0647 - accuracy: 0.9792 - val_loss: 0.0509 - val_accuracy: 0.9850\n",
            "Epoch 12/50\n",
            "422/422 [==============================] - 4s 9ms/step - loss: 0.0609 - accuracy: 0.9810 - val_loss: 0.0475 - val_accuracy: 0.9857\n",
            "Epoch 13/50\n",
            "422/422 [==============================] - 4s 9ms/step - loss: 0.0581 - accuracy: 0.9819 - val_loss: 0.0463 - val_accuracy: 0.9850\n",
            "Epoch 14/50\n",
            "422/422 [==============================] - 4s 9ms/step - loss: 0.0574 - accuracy: 0.9818 - val_loss: 0.0454 - val_accuracy: 0.9862\n",
            "Epoch 15/50\n",
            "422/422 [==============================] - 4s 9ms/step - loss: 0.0569 - accuracy: 0.9820 - val_loss: 0.0466 - val_accuracy: 0.9852\n",
            "Epoch 16/50\n",
            "422/422 [==============================] - 4s 9ms/step - loss: 0.0534 - accuracy: 0.9829 - val_loss: 0.0448 - val_accuracy: 0.9860\n",
            "Epoch 17/50\n",
            "422/422 [==============================] - 4s 9ms/step - loss: 0.0536 - accuracy: 0.9825 - val_loss: 0.0443 - val_accuracy: 0.9860\n",
            "Epoch 18/50\n",
            "422/422 [==============================] - 4s 9ms/step - loss: 0.0496 - accuracy: 0.9840 - val_loss: 0.0402 - val_accuracy: 0.9878\n",
            "Epoch 19/50\n",
            "422/422 [==============================] - 4s 9ms/step - loss: 0.0491 - accuracy: 0.9841 - val_loss: 0.0419 - val_accuracy: 0.9857\n",
            "Epoch 20/50\n",
            "422/422 [==============================] - 4s 8ms/step - loss: 0.0482 - accuracy: 0.9844 - val_loss: 0.0395 - val_accuracy: 0.9858\n",
            "Epoch 21/50\n",
            "422/422 [==============================] - 4s 9ms/step - loss: 0.0459 - accuracy: 0.9850 - val_loss: 0.0399 - val_accuracy: 0.9885\n",
            "Epoch 22/50\n",
            "422/422 [==============================] - 4s 9ms/step - loss: 0.0457 - accuracy: 0.9851 - val_loss: 0.0398 - val_accuracy: 0.9875\n",
            "Epoch 23/50\n",
            "422/422 [==============================] - 4s 8ms/step - loss: 0.0443 - accuracy: 0.9856 - val_loss: 0.0372 - val_accuracy: 0.9873\n",
            "Epoch 24/50\n",
            "422/422 [==============================] - 4s 9ms/step - loss: 0.0425 - accuracy: 0.9861 - val_loss: 0.0378 - val_accuracy: 0.9875\n",
            "Epoch 25/50\n",
            "422/422 [==============================] - 4s 9ms/step - loss: 0.0422 - accuracy: 0.9861 - val_loss: 0.0387 - val_accuracy: 0.9870\n",
            "Epoch 26/50\n",
            "422/422 [==============================] - 4s 9ms/step - loss: 0.0428 - accuracy: 0.9857 - val_loss: 0.0371 - val_accuracy: 0.9877\n",
            "Epoch 27/50\n",
            "422/422 [==============================] - 4s 9ms/step - loss: 0.0413 - accuracy: 0.9869 - val_loss: 0.0374 - val_accuracy: 0.9872\n",
            "Epoch 28/50\n",
            "422/422 [==============================] - 4s 9ms/step - loss: 0.0390 - accuracy: 0.9871 - val_loss: 0.0390 - val_accuracy: 0.9873\n",
            "Epoch 29/50\n",
            "422/422 [==============================] - 4s 9ms/step - loss: 0.0408 - accuracy: 0.9865 - val_loss: 0.0358 - val_accuracy: 0.9880\n",
            "Epoch 30/50\n",
            "422/422 [==============================] - 4s 9ms/step - loss: 0.0386 - accuracy: 0.9870 - val_loss: 0.0385 - val_accuracy: 0.9885\n",
            "Epoch 31/50\n",
            "422/422 [==============================] - 4s 8ms/step - loss: 0.0391 - accuracy: 0.9869 - val_loss: 0.0366 - val_accuracy: 0.9887\n",
            "Epoch 32/50\n",
            "422/422 [==============================] - 4s 9ms/step - loss: 0.0386 - accuracy: 0.9876 - val_loss: 0.0371 - val_accuracy: 0.9882\n",
            "Epoch 33/50\n",
            "422/422 [==============================] - 4s 9ms/step - loss: 0.0367 - accuracy: 0.9876 - val_loss: 0.0348 - val_accuracy: 0.9898\n",
            "Epoch 34/50\n",
            "422/422 [==============================] - 4s 9ms/step - loss: 0.0378 - accuracy: 0.9874 - val_loss: 0.0343 - val_accuracy: 0.9890\n",
            "Epoch 35/50\n",
            "422/422 [==============================] - 4s 8ms/step - loss: 0.0360 - accuracy: 0.9882 - val_loss: 0.0360 - val_accuracy: 0.9880\n",
            "Epoch 36/50\n",
            "422/422 [==============================] - 4s 8ms/step - loss: 0.0361 - accuracy: 0.9878 - val_loss: 0.0380 - val_accuracy: 0.9890\n",
            "Epoch 37/50\n",
            "422/422 [==============================] - 4s 8ms/step - loss: 0.0354 - accuracy: 0.9882 - val_loss: 0.0362 - val_accuracy: 0.9887\n",
            "Epoch 38/50\n",
            "422/422 [==============================] - 4s 9ms/step - loss: 0.0353 - accuracy: 0.9882 - val_loss: 0.0359 - val_accuracy: 0.9888\n",
            "Epoch 39/50\n",
            "422/422 [==============================] - 4s 8ms/step - loss: 0.0340 - accuracy: 0.9885 - val_loss: 0.0346 - val_accuracy: 0.9890\n",
            "Epoch 40/50\n",
            "422/422 [==============================] - 4s 8ms/step - loss: 0.0357 - accuracy: 0.9880 - val_loss: 0.0353 - val_accuracy: 0.9885\n",
            "Epoch 41/50\n",
            "422/422 [==============================] - 4s 9ms/step - loss: 0.0335 - accuracy: 0.9889 - val_loss: 0.0380 - val_accuracy: 0.9873\n",
            "Epoch 42/50\n",
            "422/422 [==============================] - 4s 8ms/step - loss: 0.0327 - accuracy: 0.9892 - val_loss: 0.0343 - val_accuracy: 0.9902\n",
            "Epoch 43/50\n",
            "422/422 [==============================] - 4s 9ms/step - loss: 0.0324 - accuracy: 0.9893 - val_loss: 0.0348 - val_accuracy: 0.9893\n",
            "Epoch 44/50\n",
            "422/422 [==============================] - 4s 9ms/step - loss: 0.0319 - accuracy: 0.9895 - val_loss: 0.0351 - val_accuracy: 0.9900\n",
            "Epoch 45/50\n",
            "422/422 [==============================] - 4s 9ms/step - loss: 0.0323 - accuracy: 0.9888 - val_loss: 0.0333 - val_accuracy: 0.9898\n",
            "Epoch 46/50\n",
            "422/422 [==============================] - 4s 9ms/step - loss: 0.0317 - accuracy: 0.9899 - val_loss: 0.0341 - val_accuracy: 0.9890\n",
            "Epoch 47/50\n",
            "422/422 [==============================] - 4s 8ms/step - loss: 0.0294 - accuracy: 0.9901 - val_loss: 0.0369 - val_accuracy: 0.9897\n",
            "Epoch 48/50\n",
            "422/422 [==============================] - 4s 8ms/step - loss: 0.0315 - accuracy: 0.9896 - val_loss: 0.0340 - val_accuracy: 0.9907\n",
            "Epoch 49/50\n",
            "422/422 [==============================] - 4s 9ms/step - loss: 0.0306 - accuracy: 0.9899 - val_loss: 0.0367 - val_accuracy: 0.9887\n",
            "Epoch 50/50\n",
            "422/422 [==============================] - 4s 9ms/step - loss: 0.0302 - accuracy: 0.9900 - val_loss: 0.0349 - val_accuracy: 0.9892\n"
          ]
        }
      ]
    },
    {
      "cell_type": "markdown",
      "metadata": {
        "id": "Ra5ItouFuA15"
      },
      "source": [
        "## CLASSIFICATION PERFORMANCE"
      ]
    },
    {
      "cell_type": "markdown",
      "metadata": {
        "id": "wJwv9KGBwMqI"
      },
      "source": [
        "### Plot of accuracy and loss on training and validation set"
      ]
    },
    {
      "cell_type": "code",
      "metadata": {
        "colab": {
          "base_uri": "https://localhost:8080/",
          "height": 549
        },
        "id": "S_g-i9oONdVv",
        "outputId": "ff3efabb-8547-4b3e-c381-4d7801da8e13"
      },
      "source": [
        "#plot training history\n",
        "\n",
        "from matplotlib import pyplot as plt\n",
        "x_plot = list(range(1, epochs+1))\n",
        "\n",
        "def plot_history(network_history):\n",
        "    plt.figure()\n",
        "    plt.xlabel('Epochs')\n",
        "    plt.ylabel('Loss')\n",
        "    plt.plot(x_plot, network_history.history['loss'])\n",
        "    plt.plot(x_plot, network_history.history['val_loss'])\n",
        "    plt.legend(['Training', 'Validation'])\n",
        "\n",
        "    plt.figure()\n",
        "    plt.xlabel('Epochs')\n",
        "    plt.ylabel('Accuracy')\n",
        "    plt.plot(x_plot, network_history.history['accuracy'])\n",
        "    plt.plot(x_plot, network_history.history['val_accuracy'])\n",
        "    plt.legend(['Training', 'Validation'], loc='lower right')\n",
        "    plt.show()\n",
        "\n",
        "plot_history(history)"
      ],
      "execution_count": 7,
      "outputs": [
        {
          "output_type": "display_data",
          "data": {
            "image/png": "[encoded data removed]",
            "text/plain": [
              "<Figure size 432x288 with 1 Axes>"
            ]
          },
          "metadata": {
            "needs_background": "light"
          }
        },
        {
          "output_type": "display_data",
          "data": {
            "image/png": "[encoded data removed]",
            "text/plain": [
              "<Figure size 432x288 with 1 Axes>"
            ]
          },
          "metadata": {
            "needs_background": "light"
          }
        }
      ]
    },
    {
      "cell_type": "markdown",
      "metadata": {
        "id": "vvlIwRj-NFhq"
      },
      "source": [
        "La validation loss risulta decrescente, fino a un valore praticamente stazionario, segnale che mostra che è il momento giusto per fermarsi e non avere un numero di epochs maggiore, poichè si andrebbe in overfitting.\n",
        "La train e validation accuracy dopo 50 epochs sono circa uguali, proseguendo con il training per altre epochs vedremmo la training accuracy aumentare e la validation accuracy diminuire: overfitting."
      ]
    },
    {
      "cell_type": "markdown",
      "metadata": {
        "id": "v-80qWkDuGVa"
      },
      "source": [
        "### Training set"
      ]
    },
    {
      "cell_type": "code",
      "metadata": {
        "colab": {
          "base_uri": "https://localhost:8080/"
        },
        "id": "lcH5q5bzrIxP",
        "outputId": "a820984d-34e9-47ed-ccd3-e11d384b9354"
      },
      "source": [
        "train_predictions = model.predict(x_train)\n",
        "train_classes_pred=np.argmax(train_predictions,axis=1)\n",
        "print(\"CLASSIFICATION PERFORMANCE TRAINING SET\\n\")\n",
        "print(\"First 20 classes predicted: \\n\", train_classes_pred[:20])\n",
        "train_true_values=np.argmax(y_train,axis=1)\n",
        "print(\"First 20 true classes: \\n\", train_true_values[:20])\n",
        "print(\"\\n\", classification_report(train_true_values,train_classes_pred, digits=3))"
      ],
      "execution_count": 8,
      "outputs": [
        {
          "output_type": "stream",
          "name": "stdout",
          "text": [
            "CLASSIFICATION PERFORMANCE TRAINING SET\n",
            "\n",
            "First 20 classes predicted: \n",
            " [7 1 8 1 1 6 6 6 0 1 5 1 0 3 0 8 3 8 1 7]\n",
            "First 20 true classes: \n",
            " [7 1 8 1 1 6 6 6 0 1 5 1 0 3 0 8 3 8 1 7]\n",
            "\n",
            "               precision    recall  f1-score   support\n",
            "\n",
            "           0      0.998     0.997     0.998      5319\n",
            "           1      0.996     0.999     0.997      6094\n",
            "           2      0.995     0.995     0.995      5387\n",
            "           3      0.997     0.995     0.996      5552\n",
            "           4      0.991     0.997     0.994      5240\n",
            "           5      0.998     0.994     0.996      4860\n",
            "           6      0.993     0.999     0.996      5299\n",
            "           7      0.995     0.991     0.993      5628\n",
            "           8      0.992     0.995     0.994      5249\n",
            "           9      0.996     0.990     0.993      5372\n",
            "\n",
            "    accuracy                          0.995     54000\n",
            "   macro avg      0.995     0.995     0.995     54000\n",
            "weighted avg      0.995     0.995     0.995     54000\n",
            "\n"
          ]
        }
      ]
    },
    {
      "cell_type": "markdown",
      "metadata": {
        "id": "xB07zSwPuLVq"
      },
      "source": [
        "### Validation set"
      ]
    },
    {
      "cell_type": "code",
      "metadata": {
        "colab": {
          "base_uri": "https://localhost:8080/"
        },
        "id": "FWVTPVxTQty-",
        "outputId": "9f397b21-246f-4b60-9e52-01a3925a14c9"
      },
      "source": [
        "val_predictions = model.predict(x_val)\n",
        "val_classes_pred=np.argmax(val_predictions,axis=1)\n",
        "print(\"CLASSIFICATION PERFORMANCE VALIDATION SET\\n\")\n",
        "print(\"First 20 classes predicted: \\n\", val_classes_pred[:20])\n",
        "val_true_values=np.argmax(y_val,axis=1)\n",
        "print(\"First 20 true classes: \\n\", val_true_values[:20])\n",
        "print(\"\\n\", classification_report(val_true_values,val_classes_pred, digits=3))"
      ],
      "execution_count": 9,
      "outputs": [
        {
          "output_type": "stream",
          "name": "stdout",
          "text": [
            "CLASSIFICATION PERFORMANCE VALIDATION SET\n",
            "\n",
            "First 20 classes predicted: \n",
            " [5 1 1 0 7 0 4 4 8 3 8 1 0 6 0 5 5 1 7 8]\n",
            "First 20 true classes: \n",
            " [5 1 1 0 7 0 4 4 8 3 8 1 0 6 0 5 5 1 7 8]\n",
            "\n",
            "               precision    recall  f1-score   support\n",
            "\n",
            "           0      0.993     0.992     0.993       604\n",
            "           1      0.994     0.994     0.994       648\n",
            "           2      0.991     0.995     0.993       571\n",
            "           3      0.998     0.988     0.993       579\n",
            "           4      0.979     0.995     0.987       602\n",
            "           5      0.993     0.986     0.989       561\n",
            "           6      0.982     0.997     0.990       619\n",
            "           7      0.989     0.992     0.991       637\n",
            "           8      0.983     0.985     0.984       602\n",
            "           9      0.989     0.967     0.978       577\n",
            "\n",
            "    accuracy                          0.989      6000\n",
            "   macro avg      0.989     0.989     0.989      6000\n",
            "weighted avg      0.989     0.989     0.989      6000\n",
            "\n"
          ]
        }
      ]
    },
    {
      "cell_type": "markdown",
      "metadata": {
        "id": "mdJP08BGuMHk"
      },
      "source": [
        "### Test set"
      ]
    },
    {
      "cell_type": "code",
      "metadata": {
        "colab": {
          "base_uri": "https://localhost:8080/"
        },
        "id": "mqZ-f52lPfoh",
        "outputId": "b408008a-1754-4ecc-a2d8-7177c0a48498"
      },
      "source": [
        "test_predictions = model.predict(x_test)\n",
        "test_classes_pred=np.argmax(test_predictions,axis=1)\n",
        "print(\"CLASSIFICATION PERFORMANCE TEST SET\\n\")\n",
        "print(\"First 20 classes predicted: \\n\", test_classes_pred[:20])\n",
        "test_true_values=np.argmax(y_test,axis=1)\n",
        "print(\"First 20 true classes: \\n\", test_true_values[:20])\n",
        "print(\"\\n\",classification_report(test_true_values,test_classes_pred, digits=3))"
      ],
      "execution_count": 10,
      "outputs": [
        {
          "output_type": "stream",
          "name": "stdout",
          "text": [
            "CLASSIFICATION PERFORMANCE TEST SET\n",
            "\n",
            "First 20 classes predicted: \n",
            " [7 2 1 0 4 1 4 9 5 9 0 6 9 0 1 5 9 7 3 4]\n",
            "First 20 true classes: \n",
            " [7 2 1 0 4 1 4 9 5 9 0 6 9 0 1 5 9 7 3 4]\n",
            "\n",
            "               precision    recall  f1-score   support\n",
            "\n",
            "           0      0.990     0.996     0.993       980\n",
            "           1      0.991     0.995     0.993      1135\n",
            "           2      0.986     0.991     0.989      1032\n",
            "           3      0.994     0.992     0.993      1010\n",
            "           4      0.986     0.991     0.988       982\n",
            "           5      0.992     0.992     0.992       892\n",
            "           6      0.991     0.989     0.990       958\n",
            "           7      0.991     0.987     0.989      1028\n",
            "           8      0.986     0.989     0.987       974\n",
            "           9      0.992     0.977     0.985      1009\n",
            "\n",
            "    accuracy                          0.990     10000\n",
            "   macro avg      0.990     0.990     0.990     10000\n",
            "weighted avg      0.990     0.990     0.990     10000\n",
            "\n"
          ]
        }
      ]
    },
    {
      "cell_type": "markdown",
      "metadata": {
        "id": "K7oRSsF4OPJy"
      },
      "source": [
        "Abbiamo una accuracy di 0.995 sul training set, di 0.989 sul validation set e di 0.990 sul test set. I risultati quindi risultano del tutto soddisfacenti, considerando il vincolo di poter utilizzare solamente 6000 parametri nella CNN. Non vi sono differenze importanti sulle varie classi tra le misure di performance calcolate."
      ]
    }
  ]
}